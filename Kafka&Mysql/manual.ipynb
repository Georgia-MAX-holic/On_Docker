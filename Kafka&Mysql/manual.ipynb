{
  "nbformat": 4,
  "nbformat_minor": 0,
  "metadata": {
    "colab": {
      "provenance": [],
      "collapsed_sections": []
    },
    "kernelspec": {
      "name": "python3",
      "display_name": "Python 3"
    },
    "language_info": {
      "name": "python"
    }
  },
  "cells": [
    {
      "cell_type": "markdown",
      "source": [
        "https://wecandev.tistory.com/109 본 블로그를 이용하여 공부하였음:"
      ],
      "metadata": {
        "id": "djapJjxc1SNK"
      }
    },
    {
      "cell_type": "markdown",
      "source": [
        "Kafka connect=> 데이터 통합 프레임 워크  \n",
        "Kafka connect => Kafka_connector가 동작하도록 실행해주는 프로세스 \n",
        "\n",
        "Kafka connect 에는 Source connector 와 Sink connector가 있음 \n",
        "\n",
        "요약 : Source Connector는 Producer의 역할\n",
        "       Sink connector는 Consumer의 역할 \n",
        "\n",
        "\n",
        "    Source Connector : 외부시스템 -> 커넥트 -> 카프카\n",
        "    Sink Connector : 카프카 -> 커넥트 -> 외부 시스템\n",
        "\n",
        "\n",
        "Debezium => 카프카 커넥트 기반의 플러그인 데이터 변경 캡쳐를 위하여 사용됨 \n",
        "\n",
        "    구축 목표 : MySQL => \n",
        "    Kafka Connect(Source Connector,Debezium) => kafka"
      ],
      "metadata": {
        "id": "aSEeFedM2T27"
      }
    },
    {
      "cell_type": "markdown",
      "source": [
        "docker-compose.yml 작성"
      ],
      "metadata": {
        "id": "Cu2kCfRBErga"
      }
    },
    {
      "cell_type": "code",
      "source": [
        "version: '3' \n",
        "# 버전 3으로 \n",
        "services:\n",
        "  mysql:   \n",
        "    image: mysql:8.0         #이미지는 MySQL 8.0 버전\n",
        "    container_name: mysql    #컨테이너 이름 => mysql\n",
        "    ports\n",
        "      - 3306:3306            #3306 포트로 입력\n",
        "\n",
        "    environment:\n",
        "      MYSQL_ROOT_PASSWORD: admin  #비밀번호\n",
        "      MYSQL_USER: mysqluse\n",
        "      MYSQL_PASSWORD: mysqlpw \n",
        "\n",
        "    command:\n",
        "      - --character-set-server=utf8mb4\n",
        "      - --collation-server=utf8mb4_unicode_ci\n",
        "\n",
        "    volumes:\n",
        "      - D:/mysql/data:/var/lib/mysql\n",
        "호\n",
        "  zookeeper:\n",
        "    container_name: zookeeper  #컨테이너 이름 => zookeeper\n",
        "    image: wurstmeister/zookeeper  # 이미지 zookeeper\n",
        "    ports:\n",
        "      - \"2181:2181\"   #포트 2181\n",
        "\n",
        "  kafka:\n",
        "    container_name: kafka  #컨테이너 이름 kafka\n",
        "    image: wurstmeister/kafka  #이미지 kafka\n",
        "\n",
        "    depends_on:\n",
        "      - zookeeper   #zookeeper 먼저 실행되고 실행되도록\n",
        "\n",
        "    ports:\n",
        "      - \"9092:9092\" # 포트 9092\n",
        "\n",
        "    environment:\n",
        "      KAFKA_ADVERTISED_HOST_NAME: 127.0.0.1   #호스트 \n",
        "      KAFKA_ADVERTISED_PORT: 9092    #포트 9092\n",
        "      KAFKA_ZOOKEEPER_CONNECT: zookeeper:2181  #주키퍼와 연결\n",
        "\n",
        "    volumes:\n",
        "      - /var/run/docker.sock:/var/run/docker.sock"
      ],
      "metadata": {
        "id": "tkxf1YGYEq4u"
      },
      "execution_count": null,
      "outputs": []
    },
    {
      "cell_type": "markdown",
      "source": [
        "컴포즈 실행 \n",
        "\n",
        "    docker-compose -f docker-compose.yml up -d "
      ],
      "metadata": {
        "id": "NDIOYgN61nGJ"
      }
    },
    {
      "cell_type": "markdown",
      "source": [
        "데이터 베이스 및 테스트용 테이블 생성 \n",
        "\n",
        "[아직 MySQL에 대하여 공부를 진행하지 않아 이해가 어려웠음 ,\n",
        "다음 공부 계획은 MySQL로 목표를 잡을것]\n",
        " \n",
        "     mysql -u root -p"
      ],
      "metadata": {
        "id": "wVcFh0851waa"
      }
    },
    {
      "cell_type": "markdown",
      "source": [
        "    create database testdb;\n",
        "    use testdb;"
      ],
      "metadata": {
        "id": "akJwunRU3-Cy"
      }
    },
    {
      "cell_type": "code",
      "source": [
        "CREATE TABLE accounts (\n",
        "   account_id VARCHAR(255),\n",
        "   role_id VARCHAR(255),\n",
        "   user_name VARCHAR(255),\n",
        "   user_description VARCHAR(255),\n",
        "   update_date DATETIME DEFAULT CURRENT_TIMESTAMP,\n",
        "   PRIMARY KEY (account_id)\n",
        ");"
      ],
      "metadata": {
        "id": "fKNlR6Ve3MBA"
      },
      "execution_count": null,
      "outputs": []
    },
    {
      "cell_type": "markdown",
      "source": [
        "    use mysql;\n",
        "\n",
        "  mysqluser 가 추가 되어 있는지 확인 \n",
        "\n",
        "    select host, user from user;\n",
        "\n",
        "  mysqluser 에 권한 부여\n",
        "\n",
        "    GRANT ALL PRIVILEGES ON *.* TO 'mysqluser'@'%';\n",
        "  \n",
        "    FLUSH PRIVILEGES;"
      ],
      "metadata": {
        "id": "ORQFtnaS4OYK"
      }
    },
    {
      "cell_type": "markdown",
      "source": [
        "Debezium Connector for MySQL 플러그인\n",
        "\n",
        "MYSQL을 위한 커넥터 플러그인 , "
      ],
      "metadata": {
        "id": "0mMzdLj-5XCD"
      }
    },
    {
      "cell_type": "markdown",
      "source": [
        "로컬에서  /opt/kafka_2.13-2.8.1/ 경로에 connectors 폴더를 만들고\n",
        "\n",
        "    debezium-connector-mysql-1.5.4.Final-plugin.tar.gz   \n",
        "를 업로드\n",
        "\n",
        "    docker cp debezium-connector-mysql-1.5.4.Final-plugin.\n",
        "    tar.gz kafka:/opt/kafka_2.13-2.8.1/connectors/\n",
        "    debezium-connector-mysql-1.5.4.Final-plugin.tar.gz"
      ],
      "metadata": {
        "id": "7Zmqbu_K6Kxb"
      }
    },
    {
      "cell_type": "markdown",
      "source": [
        "압축 해제 \n",
        "\n",
        "    cd /opt/kafka_2.13-2.7.1/connectors\n",
        "    tar -zxvf debezium-connector-mysql-1.5.4.Final-plugin. \n",
        "    tar.gz\n",
        "\n"
      ],
      "metadata": {
        "id": "N4VlYz4O69ZR"
      }
    },
    {
      "cell_type": "markdown",
      "source": [
        "Plugin 경로 수정\n",
        "\n",
        "Kafka 컨테이너에서 /opt/kafka/config/connect-distributed.properties 파일을 \n",
        "\n",
        "이후 재시작 필요"
      ],
      "metadata": {
        "id": "V-C46CD17GmQ"
      }
    },
    {
      "cell_type": "code",
      "source": [
        "// 원래 경로 \n",
        "#plugin.path=\n",
        "\n",
        "// 수정 경로 \n",
        "plugin.path=/opt/kafka_2.13-2.8.1/connectors"
      ],
      "metadata": {
        "id": "h_hUnMqD2I80"
      },
      "execution_count": null,
      "outputs": []
    },
    {
      "cell_type": "markdown",
      "source": [
        "Kafka connect 실행 \n",
        "\n",
        "Distributed Mode로 kafka connect 실행\n",
        "\n",
        "Distributed mode(분산 모드) \n",
        "\n",
        "    => 분산모드는 2개 이상의 커넥트를 한개의 클러스터로  \n",
        "    묶어서 \n",
        "    \n",
        "  "
      ],
      "metadata": {
        "id": "U2lKYVJzJ7Kr"
      }
    },
    {
      "cell_type": "code",
      "source": [
        "connect-distributed.sh /opt/kafka/config/connect-distributed.properties"
      ],
      "metadata": {
        "id": "nXHeSG5LW8Aj"
      },
      "execution_count": null,
      "outputs": []
    },
    {
      "cell_type": "markdown",
      "source": [
        "확인 절차 \n",
        "\n",
        "커넥터 8083 port 가 열려있는지 확인 \n",
        "\n",
        "    netstat -lnp\n",
        "\n",
        "    curl http://localhost:8083/\n",
        "\n"
      ],
      "metadata": {
        "id": "MfZaBcMFK0Ou"
      }
    },
    {
      "cell_type": "code",
      "source": [
        "{\"version\":\"2.8.1\",\"commit\":\"839b886f9b732b15\",\"kafka_cluster_id\":\"zdm-aZWcTpSzT1ciGWC8rQ\"}"
      ],
      "metadata": {
        "id": "iZR11X9YUW4x"
      },
      "execution_count": null,
      "outputs": []
    },
    {
      "cell_type": "markdown",
      "source": [
        "플러그 인 조회\n",
        "\n",
        "    curl --location --request GET "
      ],
      "metadata": {
        "id": "oAXDd9GlOreb"
      }
    },
    {
      "cell_type": "code",
      "source": [
        "                        \n",
        "[\n",
        "    {\"class\":\"io.debezium.connector.mysql.MySqlConnector\",\"type\":\"source\",\"version\":\"1.5.4.Final\"},\n",
        " {\"class\":\"org.apache.kafka.connect.file.FileStreamSinkConnector\",\"type\":\"sink\",\"version\":\"2.8.1\"},\n",
        " {\"class\":\"org.apache.kafka.connect.file.FileStreamSourceConnector\",\"type\":\"source\",\"version\":\"2.8.1\"},\n",
        " {\"class\":\"org.apache.kafka.connect.mirror.MirrorCheckpointConnector\",\"type\":\"source\",\"version\":\"1\"},{\"class\":\"org.apache.kafka.connect.mirror.MirrorHeartbeatConnector\",\"type\":\"source\",\"version\":\"1\"},\n",
        " {\"class\":\"org.apache.kafka.connect.mirror.MirrorSourceConnector\",\"type\":\"source\",\"version\":\"1\"}\n",
        " ]"
      ],
      "metadata": {
        "id": "BSvQxPpalUtb"
      },
      "execution_count": null,
      "outputs": []
    },
    {
      "cell_type": "markdown",
      "source": [
        "REST API 로 Connector 생성 "
      ],
      "metadata": {
        "id": "LuPcVWWBPVRd"
      }
    },
    {
      "cell_type": "code",
      "source": [
        "curl --location --request POST 'http://localhost:8083/connectors' \\\n",
        "--header 'Content-Type: application/json' \\\n",
        "--data-raw '{\n",
        "  \"name\": \"source-test-connector\",\n",
        "  \"config\": {\n",
        "    \"connector.class\": \"io.debezium.connector.mysql.MySqlConnector\",\n",
        "    \"tasks.max\": \"1\",\n",
        "    \"database.hostname\": \"mysql\",\n",
        "    \"database.port\": \"3306\",\n",
        "    \"database.user\": \"mysqluser\",\n",
        "    \"database.password\": \"mysqlpw\",\n",
        "    \"database.server.id\": \"184054\",\n",
        "    \"database.server.name\": \"dbserver1\",\n",
        "    \"database.allowPublicKeyRetrieval\": \"true\",\n",
        "    \"database.include.list\": \"testdb\",\n",
        "    \"database.history.kafka.bootstrap.servers\": \"kafka:9092\",\n",
        "    \"database.history.kafka.topic\": \"dbhistory.testdb\",\n",
        "    \"key.converter\": \"org.apache.kafka.connect.json.JsonConverter\",\n",
        "    \"key.converter.schemas.enable\": \"true\",\n",
        "    \"value.converter\": \"org.apache.kafka.connect.json.JsonConverter\",\n",
        "    \"value.converter.schemas.enable\": \"true\",\n",
        "    \"transforms\": \"unwrap,addTopicPrefix\",\n",
        "    \"transforms.unwrap.type\": \"io.debezium.transforms.ExtractNewRecordState\",\n",
        "    \"transforms.addTopicPrefix.type\":\"org.apache.kafka.connect.transforms.RegexRouter\",\n",
        "    \"transforms.addTopicPrefix.regex\":\"(.*)\",\n",
        "    \"transforms.addTopicPrefix.replacement\":\"$1\"\n",
        "  }\n",
        "}'"
      ],
      "metadata": {
        "id": "8ItZwj6S-vSu"
      },
      "execution_count": null,
      "outputs": []
    },
    {
      "cell_type": "markdown",
      "source": [
        "connector.class는 커넥터의 Java 클래스입니다.\n",
        "\n",
        "tasks.max는 이 커넥터에 대해 생성되어야 할 태스크의 최대 수입니다.\n",
        "\n",
        "database.hostname은 DB 엔드포인트입니다\n",
        "\n",
        "database.server.name는 MySQL 인스턴스를 고유하게 식별하는 데 사용할 수있는 문자열입니다.\n",
        "\n",
        "database.include.list는 지정한 서버에서 호스팅하는 데이터베이스의 목록을 포함합니다.\n",
        "\n",
        "database.history.kafka.bootstrap.servers는 부트스트랩 서버 주소\n",
        "\n",
        "database.history.kafka.topic은 데이터베이스 스키마 변경을 추적하기 위해 Debezium에서 내부적으로 사용하는 Kafka 주제입니다."
      ],
      "metadata": {
        "id": "xhVQS3UFPdt4"
      }
    },
    {
      "cell_type": "code",
      "source": [
        "curl --location --request GET 'http://localhost:8083/connectors'     # 커넥터 목록 "
      ],
      "metadata": {
        "id": "O9vrX0FFlnk1"
      },
      "execution_count": null,
      "outputs": []
    },
    {
      "cell_type": "code",
      "source": [
        "# 상세정보\n",
        "curl --location --request GET 'http://localhost:8083/connectors/{connector-name}/config ' \\\n",
        "--header 'Content-Type: application/json'\n",
        "\n",
        "curl --location --request GET 'http://localhost:8083/connectors/source-test-connector/config ' \\\n",
        "--header 'Content-Type: application/json'"
      ],
      "metadata": {
        "id": "c-hKdO3TlrZ-"
      },
      "execution_count": null,
      "outputs": []
    },
    {
      "cell_type": "code",
      "source": [
        "kafka-topics.sh --list --bootstrap-server localhost:9092 # 토픽 목록  확인"
      ],
      "metadata": {
        "id": "MVC1UYwSlzLH"
      },
      "execution_count": null,
      "outputs": []
    },
    {
      "cell_type": "code",
      "source": [
        "## 분산 모드로 카프카 커넥트 실행 후 생성되는 토픽\n",
        "__consumer_offsets\n",
        "connect-configs\n",
        "connect-offsets\n",
        "connect-status\n",
        "\n",
        "## 커넥터 생성 후 생성되는 토픽\n",
        "dbhistory.testdb\n",
        "dbserver1 // DDL 정보\n",
        "dbserver1.testdb.accounts // 테이블 정보"
      ],
      "metadata": {
        "id": "YQoehRlll3kY"
      },
      "execution_count": null,
      "outputs": []
    },
    {
      "cell_type": "markdown",
      "source": [
        "MY SQL로"
      ],
      "metadata": {
        "id": "KPHiuXn3QD4X"
      }
    },
    {
      "cell_type": "code",
      "source": [
        "INSERT INTO accounts VALUES (\"123456\", \"111\", \"Susan Cooper\", \"God\", \"2021-08-16 10:11:12\");\n",
        "INSERT INTO accounts VALUES (\"123457\", \"111\", \"Rick Ford\", \"mistakes\", \"2021-08-16 11:12:13\");\n",
        "INSERT INTO accounts VALUES (\"123458\", \"999\", \"Bradley Fine\", \"face\", \"2021-08-16 12:13:14\");"
      ],
      "metadata": {
        "id": "Pyt6VX4zQC1Y"
      },
      "execution_count": null,
      "outputs": []
    },
    {
      "cell_type": "code",
      "source": [
        "kafka-console-consumer.sh --topic dbserver1.testdb.accounts --bootstrap-server localhost:9092 --from-beginning     #실시간 트래킹 "
      ],
      "metadata": {
        "id": "5xdXHtbHQH1N"
      },
      "execution_count": null,
      "outputs": []
    }
  ]
}